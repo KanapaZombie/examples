{
 "cells": [
  {
   "attachments": {},
   "cell_type": "markdown",
   "metadata": {},
   "source": [
    "# How to reproduce a Neptune run"
   ]
  },
  {
   "attachments": {},
   "cell_type": "markdown",
   "metadata": {},
   "source": [
    "## Introduction\n",
    "When building ML models for research or production, it's crucial to be able to reproduce a run to validate its results and performance. With Neptune, you can reproduce any run by retrieving the same metadata - such as hyperparameters, data, and code version.\n",
    "\n",
    "In this guide, we'll show you how to re-open an existing Neptune run to retrieve the metadata required for reproducing it. \n",
    "\n",
    "[See this example in Neptune](https://app.neptune.ai/common/pytorch-integration/e/PYTOR1-5234/metadata)\n",
    "\n"
   ]
  },
  {
   "cell_type": "markdown",
   "metadata": {},
   "source": [
    "## Before you start\n",
    "\n",
    "Make sure that you have:\n",
    "* [Python 3.7+ installed](https://www.python.org/downloads/),\n",
    "* [Basic familiarity with Neptune (create run and log metadata to it)](https://docs.neptune.ai/usage/#getting-started)"
   ]
  },
  {
   "cell_type": "code",
   "execution_count": 2,
   "metadata": {
    "colab": {
     "base_uri": "https://localhost:8080/"
    },
    "tags": []
   },
   "outputs": [
    {
     "name": "stdout",
     "output_type": "stream",
     "text": [
      "Collecting neptune\n",
      "  Downloading neptune-1.0.0-py3-none-any.whl (442 kB)\n",
      "\u001b[2K     \u001b[90m━━━━━━━━━━━━━━━━━━━━━━━━━━━━━━━━━━━━━━━\u001b[0m \u001b[32m443.0/443.0 kB\u001b[0m \u001b[31m3.6 MB/s\u001b[0m eta \u001b[36m0:00:00\u001b[0ma \u001b[36m0:00:01\u001b[0m\n",
      "\u001b[?25hRequirement already satisfied: torch in /Users/prince_canuma/opt/anaconda3/envs/neptune_test_env/lib/python3.9/site-packages (1.13.1)\n",
      "Requirement already satisfied: torchvision in /Users/prince_canuma/opt/anaconda3/envs/neptune_test_env/lib/python3.9/site-packages (0.14.1)\n",
      "Requirement already satisfied: swagger-spec-validator>=2.7.4 in /Users/prince_canuma/opt/anaconda3/envs/neptune_test_env/lib/python3.9/site-packages (from neptune) (3.0.3)\n",
      "Requirement already satisfied: six>=1.12.0 in /Users/prince_canuma/opt/anaconda3/envs/neptune_test_env/lib/python3.9/site-packages (from neptune) (1.16.0)\n",
      "Requirement already satisfied: boto3>=1.16.0 in /Users/prince_canuma/opt/anaconda3/envs/neptune_test_env/lib/python3.9/site-packages (from neptune) (1.26.73)\n",
      "Requirement already satisfied: bravado<12.0.0,>=11.0.0 in /Users/prince_canuma/opt/anaconda3/envs/neptune_test_env/lib/python3.9/site-packages (from neptune) (11.0.3)\n",
      "Requirement already satisfied: GitPython>=2.0.8 in /Users/prince_canuma/opt/anaconda3/envs/neptune_test_env/lib/python3.9/site-packages (from neptune) (3.1.31)\n",
      "Requirement already satisfied: Pillow>=1.1.6 in /Users/prince_canuma/opt/anaconda3/envs/neptune_test_env/lib/python3.9/site-packages (from neptune) (9.4.0)\n",
      "Requirement already satisfied: websocket-client!=1.0.0,>=0.35.0 in /Users/prince_canuma/opt/anaconda3/envs/neptune_test_env/lib/python3.9/site-packages (from neptune) (1.5.1)\n",
      "Requirement already satisfied: pandas in /Users/prince_canuma/opt/anaconda3/envs/neptune_test_env/lib/python3.9/site-packages (from neptune) (1.5.3)\n",
      "Requirement already satisfied: oauthlib>=2.1.0 in /Users/prince_canuma/opt/anaconda3/envs/neptune_test_env/lib/python3.9/site-packages (from neptune) (3.2.2)\n",
      "Requirement already satisfied: click>=7.0 in /Users/prince_canuma/opt/anaconda3/envs/neptune_test_env/lib/python3.9/site-packages (from neptune) (8.1.3)\n",
      "Requirement already satisfied: packaging in /Users/prince_canuma/opt/anaconda3/envs/neptune_test_env/lib/python3.9/site-packages (from neptune) (23.0)\n",
      "Requirement already satisfied: requests>=2.20.0 in /Users/prince_canuma/opt/anaconda3/envs/neptune_test_env/lib/python3.9/site-packages (from neptune) (2.28.2)\n",
      "Requirement already satisfied: requests-oauthlib>=1.0.0 in /Users/prince_canuma/opt/anaconda3/envs/neptune_test_env/lib/python3.9/site-packages (from neptune) (1.3.1)\n",
      "Requirement already satisfied: urllib3 in /Users/prince_canuma/opt/anaconda3/envs/neptune_test_env/lib/python3.9/site-packages (from neptune) (1.26.14)\n",
      "Requirement already satisfied: PyJWT in /Users/prince_canuma/opt/anaconda3/envs/neptune_test_env/lib/python3.9/site-packages (from neptune) (2.6.0)\n",
      "Requirement already satisfied: psutil in /Users/prince_canuma/opt/anaconda3/envs/neptune_test_env/lib/python3.9/site-packages (from neptune) (5.9.4)\n",
      "Requirement already satisfied: future>=0.17.1 in /Users/prince_canuma/opt/anaconda3/envs/neptune_test_env/lib/python3.9/site-packages (from neptune) (0.18.3)\n",
      "Requirement already satisfied: typing-extensions in /Users/prince_canuma/opt/anaconda3/envs/neptune_test_env/lib/python3.9/site-packages (from torch) (4.4.0)\n",
      "Requirement already satisfied: numpy in /Users/prince_canuma/opt/anaconda3/envs/neptune_test_env/lib/python3.9/site-packages (from torchvision) (1.24.2)\n",
      "Requirement already satisfied: botocore<1.30.0,>=1.29.73 in /Users/prince_canuma/opt/anaconda3/envs/neptune_test_env/lib/python3.9/site-packages (from boto3>=1.16.0->neptune) (1.29.73)\n",
      "Requirement already satisfied: jmespath<2.0.0,>=0.7.1 in /Users/prince_canuma/opt/anaconda3/envs/neptune_test_env/lib/python3.9/site-packages (from boto3>=1.16.0->neptune) (1.0.1)\n",
      "Requirement already satisfied: s3transfer<0.7.0,>=0.6.0 in /Users/prince_canuma/opt/anaconda3/envs/neptune_test_env/lib/python3.9/site-packages (from boto3>=1.16.0->neptune) (0.6.0)\n",
      "Requirement already satisfied: monotonic in /Users/prince_canuma/opt/anaconda3/envs/neptune_test_env/lib/python3.9/site-packages (from bravado<12.0.0,>=11.0.0->neptune) (1.6)\n",
      "Requirement already satisfied: msgpack in /Users/prince_canuma/opt/anaconda3/envs/neptune_test_env/lib/python3.9/site-packages (from bravado<12.0.0,>=11.0.0->neptune) (1.0.4)\n",
      "Requirement already satisfied: pyyaml in /Users/prince_canuma/opt/anaconda3/envs/neptune_test_env/lib/python3.9/site-packages (from bravado<12.0.0,>=11.0.0->neptune) (6.0)\n",
      "Requirement already satisfied: python-dateutil in /Users/prince_canuma/opt/anaconda3/envs/neptune_test_env/lib/python3.9/site-packages (from bravado<12.0.0,>=11.0.0->neptune) (2.8.2)\n",
      "Requirement already satisfied: simplejson in /Users/prince_canuma/opt/anaconda3/envs/neptune_test_env/lib/python3.9/site-packages (from bravado<12.0.0,>=11.0.0->neptune) (3.18.3)\n",
      "Requirement already satisfied: bravado-core>=5.16.1 in /Users/prince_canuma/opt/anaconda3/envs/neptune_test_env/lib/python3.9/site-packages (from bravado<12.0.0,>=11.0.0->neptune) (5.17.1)\n",
      "Requirement already satisfied: gitdb<5,>=4.0.1 in /Users/prince_canuma/opt/anaconda3/envs/neptune_test_env/lib/python3.9/site-packages (from GitPython>=2.0.8->neptune) (4.0.10)\n",
      "Requirement already satisfied: idna<4,>=2.5 in /Users/prince_canuma/opt/anaconda3/envs/neptune_test_env/lib/python3.9/site-packages (from requests>=2.20.0->neptune) (3.4)\n",
      "Requirement already satisfied: certifi>=2017.4.17 in /Users/prince_canuma/opt/anaconda3/envs/neptune_test_env/lib/python3.9/site-packages (from requests>=2.20.0->neptune) (2022.12.7)\n",
      "Requirement already satisfied: charset-normalizer<4,>=2 in /Users/prince_canuma/opt/anaconda3/envs/neptune_test_env/lib/python3.9/site-packages (from requests>=2.20.0->neptune) (3.0.1)\n",
      "Requirement already satisfied: jsonschema in /Users/prince_canuma/opt/anaconda3/envs/neptune_test_env/lib/python3.9/site-packages (from swagger-spec-validator>=2.7.4->neptune) (4.17.3)\n",
      "Requirement already satisfied: pytz>=2020.1 in /Users/prince_canuma/opt/anaconda3/envs/neptune_test_env/lib/python3.9/site-packages (from pandas->neptune) (2022.7.1)\n",
      "Requirement already satisfied: jsonref in /Users/prince_canuma/opt/anaconda3/envs/neptune_test_env/lib/python3.9/site-packages (from bravado-core>=5.16.1->bravado<12.0.0,>=11.0.0->neptune) (1.1.0)\n",
      "Requirement already satisfied: smmap<6,>=3.0.1 in /Users/prince_canuma/opt/anaconda3/envs/neptune_test_env/lib/python3.9/site-packages (from gitdb<5,>=4.0.1->GitPython>=2.0.8->neptune) (5.0.0)\n",
      "Requirement already satisfied: attrs>=17.4.0 in /Users/prince_canuma/opt/anaconda3/envs/neptune_test_env/lib/python3.9/site-packages (from jsonschema->swagger-spec-validator>=2.7.4->neptune) (22.2.0)\n",
      "Requirement already satisfied: pyrsistent!=0.17.0,!=0.17.1,!=0.17.2,>=0.14.0 in /Users/prince_canuma/opt/anaconda3/envs/neptune_test_env/lib/python3.9/site-packages (from jsonschema->swagger-spec-validator>=2.7.4->neptune) (0.18.0)\n",
      "Requirement already satisfied: isoduration in /Users/prince_canuma/opt/anaconda3/envs/neptune_test_env/lib/python3.9/site-packages (from jsonschema->swagger-spec-validator>=2.7.4->neptune) (20.11.0)\n",
      "Requirement already satisfied: jsonpointer>1.13 in /Users/prince_canuma/opt/anaconda3/envs/neptune_test_env/lib/python3.9/site-packages (from jsonschema->swagger-spec-validator>=2.7.4->neptune) (2.3)\n",
      "Requirement already satisfied: fqdn in /Users/prince_canuma/opt/anaconda3/envs/neptune_test_env/lib/python3.9/site-packages (from jsonschema->swagger-spec-validator>=2.7.4->neptune) (1.5.1)\n",
      "Requirement already satisfied: uri-template in /Users/prince_canuma/opt/anaconda3/envs/neptune_test_env/lib/python3.9/site-packages (from jsonschema->swagger-spec-validator>=2.7.4->neptune) (1.2.0)\n",
      "Requirement already satisfied: rfc3339-validator in /Users/prince_canuma/opt/anaconda3/envs/neptune_test_env/lib/python3.9/site-packages (from jsonschema->swagger-spec-validator>=2.7.4->neptune) (0.1.4)\n",
      "Requirement already satisfied: webcolors>=1.11 in /Users/prince_canuma/opt/anaconda3/envs/neptune_test_env/lib/python3.9/site-packages (from jsonschema->swagger-spec-validator>=2.7.4->neptune) (1.12)\n",
      "Requirement already satisfied: rfc3987 in /Users/prince_canuma/opt/anaconda3/envs/neptune_test_env/lib/python3.9/site-packages (from jsonschema->swagger-spec-validator>=2.7.4->neptune) (1.3.8)\n",
      "Requirement already satisfied: arrow>=0.15.0 in /Users/prince_canuma/opt/anaconda3/envs/neptune_test_env/lib/python3.9/site-packages (from isoduration->jsonschema->swagger-spec-validator>=2.7.4->neptune) (1.2.3)\n",
      "Installing collected packages: neptune\n",
      "Successfully installed neptune-1.0.0\n"
     ]
    }
   ],
   "source": [
    "! pip install -U neptune torch torchvision"
   ]
  },
  {
   "cell_type": "markdown",
   "metadata": {},
   "source": [
    "## Step 1: Get run ID\n",
    "You will get the run ID of the failed run **programmatically**.\n",
    "\n",
    "**Note**: To log or retrieve metadata from Neptune, you need the project name and the API token\n",
    "\n",
    "To make this example easy to follow, we'll log the metadata to the public project **'common/showroom'** using a shared token for anonymous logging.\n",
    "\n",
    "**(Optional)** If you want to log to your own project, you need a [Neptune account](https://app.neptune.ai/register/) and a [project](https://docs.neptune.ai/setup/creating_project).\n",
    "Then you can pass [project](https://docs.neptune.ai/setup/creating_project/#next-steps) and [api_token](https://docs.neptune.ai/setup/setting_api_token/#setting-your-api-token) arguments to the `init_run()` method.\n",
    "\n",
    "`run = neptune.init_run(api_token='YOUR_API_TOKEN', project='YOUR_WORKSPACE/YOUR_PROJECT')` \n"
   ]
  },
  {
   "cell_type": "code",
   "execution_count": 18,
   "metadata": {},
   "outputs": [],
   "source": [
    "project_name=\"common/pytorch-integration\""
   ]
  },
  {
   "cell_type": "code",
   "execution_count": 19,
   "metadata": {},
   "outputs": [
    {
     "name": "stdout",
     "output_type": "stream",
     "text": [
      "https://app.neptune.ai/common/pytorch-integration/\n"
     ]
    }
   ],
   "source": [
    "import neptune\n",
    "\n",
    "# Fetch project\n",
    "project = neptune.init_project(\n",
    "    project=project_name, api_token=neptune.ANONYMOUS_API_TOKEN, mode=\"read-only\"\n",
    ")\n",
    "\n",
    "# Fetch only inactive runs with tag \"showcase-run\"\n",
    "runs_table_df = project.fetch_runs_table(state=\"inactive\", tag=[\"showcase-run\", \"reproduce\", \"Basic script\"]).to_pandas()\n",
    "\n",
    "# Extract the last successful run's id\n",
    "old_run_id = runs_table_df[runs_table_df[\"sys/failed\"] == False][\"sys/id\"].values[0]"
   ]
  },
  {
   "cell_type": "code",
   "execution_count": 20,
   "metadata": {
    "colab": {
     "base_uri": "https://localhost:8080/",
     "height": 35
    }
   },
   "outputs": [
    {
     "name": "stdout",
     "output_type": "stream",
     "text": [
      "old_run_id =  PYTOR1-5233\n"
     ]
    }
   ],
   "source": [
    "print(\"old_run_id = \", old_run_id)"
   ]
  },
  {
   "attachments": {},
   "cell_type": "markdown",
   "metadata": {},
   "source": [
    "## Step 2: Resume old run\n",
    "Use the `neptune.init_run()` method to:\n",
    "* Re-open a run using the ID you got from the previous step \n",
    "* Re-open it in the `read-only` mode\n",
    "\n",
    "Use the `read-only` mode so the metadata previously logged to the run is not accidentally changed. Also, you can re-open a run as many times as needed.\n",
    "\n",
    "**(Optional)** If you already have a [Neptune account](https://app.neptune.ai/register/) you can pass your credentials to **[project](https://docs.neptune.ai/getting-started/installation#setting-the-project-name)** and **[api_token](https://docs.neptune.ai/getting-started/installation#authentication-neptune-api-token)** arguments of neptune.init_run()\n",
    "\n",
    "```python\n",
    "from getpass import getpass\n",
    "\n",
    "run = neptune.init_run(\n",
    "    api_token=getpass(\"Enter your Neptune API token: \"),\n",
    "    project=\"workspace-name/project-name\",  # replace with your own\n",
    ") \n",
    "```"
   ]
  },
  {
   "cell_type": "code",
   "execution_count": 21,
   "metadata": {
    "colab": {
     "base_uri": "https://localhost:8080/"
    }
   },
   "outputs": [
    {
     "name": "stdout",
     "output_type": "stream",
     "text": [
      "https://app.neptune.ai/common/pytorch-integration/e/PYTOR1-5233\n"
     ]
    }
   ],
   "source": [
    "old_run = neptune.init_run(\n",
    "    project=project_name,\n",
    "    api_token=neptune.ANONYMOUS_API_TOKEN,\n",
    "    with_id=old_run_id,\n",
    "    mode=\"read-only\",\n",
    ")"
   ]
  },
  {
   "attachments": {},
   "cell_type": "markdown",
   "metadata": {},
   "source": [
    "## Step 3: Fetch relevant metadata from Neptune\n",
    "\n",
    "Fetch metadata (i.e., dataset and hyperparameters) needed to re-run the training. Precisely, you will download the hyperparameters and dataset path used in the old run to instantiate a model and dataset objects with the same configuration.\n",
    "\n",
    "To do that:"
   ]
  },
  {
   "cell_type": "markdown",
   "metadata": {},
   "source": [
    "Use the [fetch()](https://docs.neptune.ai/api/field-types/#fetch-1) method to retrieve relevant metadata"
   ]
  },
  {
   "cell_type": "code",
   "execution_count": 23,
   "metadata": {},
   "outputs": [],
   "source": [
    "# Fetch hyperparameters\n",
    "old_run_params = old_run[\"config/params\"].fetch()"
   ]
  },
  {
   "cell_type": "code",
   "execution_count": 25,
   "metadata": {},
   "outputs": [],
   "source": [
    "# Fetch dataset path\n",
    "dataset_path = old_run[\"config/dataset/path\"].fetch()"
   ]
  },
  {
   "cell_type": "markdown",
   "metadata": {},
   "source": [
    "## Step 4: Create a new run\n",
    "Create a new Neptune run that will be used to log metadata in the re-run session."
   ]
  },
  {
   "cell_type": "code",
   "execution_count": 26,
   "metadata": {
    "colab": {
     "base_uri": "https://localhost:8080/"
    }
   },
   "outputs": [
    {
     "name": "stderr",
     "output_type": "stream",
     "text": [
      "<ipython-input-26-62f8b75a4677>:1: NeptuneWarning: To avoid unintended consumption of logging hours during interactive sessions, the following monitoring options are disabled unless set to 'True' when initializing the run: 'capture_stdout', 'capture_stderr', and 'capture_hardware_metrics'.\n",
      "  new_run = neptune.init_run(\n"
     ]
    },
    {
     "name": "stdout",
     "output_type": "stream",
     "text": [
      "https://app.neptune.ai/common/pytorch-integration/e/PYTOR1-5234\n"
     ]
    }
   ],
   "source": [
    "new_run = neptune.init_run(\n",
    "    project=project_name,\n",
    "    api_token=neptune.ANONYMOUS_API_TOKEN,\n",
    "    tags=[\"reproduce\", \"new-run\", \"showcase-run\"],\n",
    ")"
   ]
  },
  {
   "cell_type": "markdown",
   "metadata": {},
   "source": [
    "Running this cell creates a run in Neptune, and you can log model building metadata to it.\n",
    "\n",
    "**Click on the link above to open the run in the Neptune app.** \n",
    "\n",
    "For now, it is empty, but you should keep the tab open to see what happens next."
   ]
  },
  {
   "cell_type": "markdown",
   "metadata": {},
   "source": [
    "## Step 5: Log Hyperparameters and Dataset details from failed run to new run\n",
    "Now you can continue working and logging metadata to a brand new run.\n",
    "You can log metadata using the Neptune API Client. For details, see [What you can log and display](https://docs.neptune.ai/logging/what_you_can_log)."
   ]
  },
  {
   "cell_type": "code",
   "execution_count": 27,
   "metadata": {},
   "outputs": [],
   "source": [
    "new_run[\"config/params\"] = old_run_params\n",
    "new_run[\"config/dataset/path\"] = dataset_path"
   ]
  },
  {
   "cell_type": "markdown",
   "metadata": {},
   "source": [
    "### Load dataset and model"
   ]
  },
  {
   "cell_type": "markdown",
   "metadata": {},
   "source": [
    "Dataset"
   ]
  },
  {
   "cell_type": "code",
   "execution_count": 28,
   "metadata": {},
   "outputs": [],
   "source": [
    "import torch\n",
    "from torchvision import datasets, transforms\n",
    "\n",
    "data_tfms = {\n",
    "    \"train\": transforms.Compose(\n",
    "        [\n",
    "            transforms.RandomHorizontalFlip(),\n",
    "            transforms.ToTensor(),\n",
    "            transforms.Normalize([0.485, 0.456, 0.406], [0.229, 0.224, 0.225]),\n",
    "        ]\n",
    "    ),\n",
    "}"
   ]
  },
  {
   "cell_type": "code",
   "execution_count": 29,
   "metadata": {},
   "outputs": [
    {
     "name": "stdout",
     "output_type": "stream",
     "text": [
      "Downloading https://www.cs.toronto.edu/~kriz/cifar-10-python.tar.gz to data/CIFAR10/cifar-10-python.tar.gz\n"
     ]
    },
    {
     "data": {
      "application/vnd.jupyter.widget-view+json": {
       "model_id": "190c01ff2ebb4e698c9a28b98c8bc3a4",
       "version_major": 2,
       "version_minor": 0
      },
      "text/plain": [
       "  0%|          | 0/170498071 [00:00<?, ?it/s]"
      ]
     },
     "metadata": {},
     "output_type": "display_data"
    },
    {
     "name": "stdout",
     "output_type": "stream",
     "text": [
      "Extracting data/CIFAR10/cifar-10-python.tar.gz to data/CIFAR10\n"
     ]
    }
   ],
   "source": [
    "trainset = datasets.CIFAR10(dataset_path, transform=data_tfms[\"train\"], download=True)\n",
    "\n",
    "trainloader = torch.utils.data.DataLoader(\n",
    "    trainset, batch_size=old_run_params[\"bs\"], shuffle=True, num_workers=0\n",
    ")"
   ]
  },
  {
   "cell_type": "markdown",
   "metadata": {},
   "source": [
    "Model"
   ]
  },
  {
   "cell_type": "code",
   "execution_count": 30,
   "metadata": {},
   "outputs": [],
   "source": [
    "import torch.nn as nn\n",
    "\n",
    "\n",
    "class BaseModel(nn.Module):\n",
    "    def __init__(self, input_sz, hidden_dim, n_classes):\n",
    "        super(BaseModel, self).__init__()\n",
    "        self.main = nn.Sequential(\n",
    "            nn.Linear(input_sz, hidden_dim * 2),\n",
    "            nn.ReLU(),\n",
    "            nn.Linear(hidden_dim * 2, hidden_dim),\n",
    "            nn.ReLU(),\n",
    "            nn.Linear(hidden_dim, hidden_dim // 2),\n",
    "            nn.ReLU(),\n",
    "            nn.Linear(hidden_dim // 2, n_classes),\n",
    "        )\n",
    "\n",
    "    def forward(self, input):\n",
    "        x = input.view(-1, 32 * 32 * 3)\n",
    "        return self.main(x)"
   ]
  },
  {
   "cell_type": "code",
   "execution_count": 32,
   "metadata": {},
   "outputs": [],
   "source": [
    "model = BaseModel(\n",
    "    old_run_params[\"input_sz\"],\n",
    "    old_run_params[\"input_sz\"],\n",
    "    old_run_params[\"n_classes\"],\n",
    ")\n",
    "criterion = nn.CrossEntropyLoss()\n",
    "optimizer = torch.optim.SGD(model.parameters(), lr=old_run_params[\"lr\"])"
   ]
  },
  {
   "cell_type": "markdown",
   "metadata": {},
   "source": [
    "### Log losses and metrics"
   ]
  },
  {
   "cell_type": "code",
   "execution_count": 33,
   "metadata": {
    "colab": {
     "base_uri": "https://localhost:8080/"
    }
   },
   "outputs": [],
   "source": [
    "for i, (x, y) in enumerate(trainloader, 0):\n",
    "    optimizer.zero_grad()\n",
    "    outputs = model.forward(x)\n",
    "    _, preds = torch.max(outputs, 1)\n",
    "    loss = criterion(outputs, y)\n",
    "    acc = (torch.sum(preds == y.data)) / len(x)\n",
    "\n",
    "    new_run[\"training/batch/loss\"].append(loss)\n",
    "\n",
    "    new_run[\"training/batch/acc\"].append(acc)\n",
    "\n",
    "    loss.backward()\n",
    "    optimizer.step()"
   ]
  },
  {
   "attachments": {},
   "cell_type": "markdown",
   "metadata": {},
   "source": [
    "## Stop logging\n",
    "\n",
    "Once you are done logging, stop tracking the run."
   ]
  },
  {
   "cell_type": "code",
   "execution_count": 34,
   "metadata": {
    "tags": []
   },
   "outputs": [
    {
     "name": "stdout",
     "output_type": "stream",
     "text": [
      "Shutting down background jobs, please wait a moment...\n",
      "Done!\n",
      "Explore the metadata in the Neptune app:\n",
      "https://app.neptune.ai/common/pytorch-integration/e/PYTOR1-5233/metadata\n",
      "Shutting down background jobs, please wait a moment...\n",
      "Done!\n",
      "Waiting for the remaining 50 operations to synchronize with Neptune. Do not kill this process.\n",
      "All 50 operations synced, thanks for waiting!\n",
      "Explore the metadata in the Neptune app:\n",
      "https://app.neptune.ai/common/pytorch-integration/e/PYTOR1-5234/metadata\n"
     ]
    }
   ],
   "source": [
    "old_run.stop()\n",
    "new_run.stop()"
   ]
  },
  {
   "attachments": {},
   "cell_type": "markdown",
   "metadata": {},
   "source": [
    "## Explore the run in the Neptune app\n",
    "\n",
    "After running the code cell in **Step 4**, you will get a link on the cell output similar to https://app.neptune.ai/common/pytorch-integration/e/PYTOR1-5234/metadata with: \n",
    "* **common/showroom** replaced by **your_workspace/your_project**,\n",
    "* **PYTOR1-5234** replaced by your Run ID. \n",
    "\n",
    "**Click on the link to open the Run in Neptune UI.**"
   ]
  },
  {
   "cell_type": "markdown",
   "metadata": {},
   "source": [
    "## Conclusion\n",
    "You learned how to:\n",
    "* Re-open a old run in order to fetch the metadata needed to reproduce it.\n",
    "* Use fetched metadata to parametrize a new run with the same training loop.\n",
    "\n",
    "**This knowledge can be applied to any other scenario as well!**\n",
    "\n",
    "Visit our docs for more tutorials and guides on how to use Neptune: https://docs.neptune.ai\n"
   ]
  }
 ],
 "metadata": {
  "accelerator": "GPU",
  "colab": {
   "collapsed_sections": [],
   "name": "re-run-failed-training.ipynb",
   "provenance": []
  },
  "kernelspec": {
   "display_name": "neptune_test_env",
   "language": "python",
   "name": "python3"
  },
  "language_info": {
   "codemirror_mode": {
    "name": "ipython",
    "version": 3
   },
   "file_extension": ".py",
   "mimetype": "text/x-python",
   "name": "python",
   "nbconvert_exporter": "python",
   "pygments_lexer": "ipython3",
   "version": "3.9.16"
  },
  "vscode": {
   "interpreter": {
    "hash": "9918a49f0ff3a4018a272fb676756b6b7681877efd7b7e72359fb8b30d06330a"
   }
  }
 },
 "nbformat": 4,
 "nbformat_minor": 0
}
